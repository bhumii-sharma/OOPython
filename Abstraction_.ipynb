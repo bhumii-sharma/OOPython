{
 "cells": [
  {
   "cell_type": "markdown",
   "id": "b4a3eaad",
   "metadata": {},
   "source": [
    "# What is Abstraction ???\n",
    "\n",
    "- Abstraction is used to hide the internal implementaion details of methods from the user.The user is familier with \"what the method does\" but they don't know \"how it does\".Abstraction is implemented by creating \"Abstraction base classes\" which contain \"Abstract Methods\".The abstract methods do not have any impelmentation. All the implementation are performed within the subclasses.All the subclasses of the abstract base class are required to implement all the abstract methods.\n",
    "\n",
    "**You cannot create an object of the abstract base class.**\n"
   ]
  },
  {
   "cell_type": "markdown",
   "id": "77130e4b",
   "metadata": {},
   "source": [
    "## Example 1 : "
   ]
  },
  {
   "cell_type": "code",
   "execution_count": 4,
   "id": "d5eb7966",
   "metadata": {},
   "outputs": [],
   "source": [
    "from abc import ABC,abstractmethod\n",
    "\n",
    "class Shape(ABC):\n",
    "    @abstractmethod \n",
    "    def area(self):                 # Implementaion details are hidden\n",
    "        pass\n",
    "    \n",
    "    @abstractmethod\n",
    "    def perimeter(self):            # Implementation details are hidden\n",
    "        pass"
   ]
  },
  {
   "cell_type": "code",
   "execution_count": 5,
   "id": "1940caeb",
   "metadata": {},
   "outputs": [],
   "source": [
    "from abc import ABC,abstractmethod\n",
    "\n",
    "class Shape(ABC):\n",
    "    @abstractmethod \n",
    "    def area(self):                 # Implementaion details are hidden\n",
    "        pass\n",
    "    \n",
    "    @abstractmethod\n",
    "    def perimeter(self):            # Implementation details are hidden\n",
    "        pass\n",
    "    \n",
    "    def display(self):\n",
    "        return \"this is not an abstract method\"      # no error will come"
   ]
  },
  {
   "cell_type": "markdown",
   "id": "cc3b3e3a",
   "metadata": {},
   "source": [
    "### Following error because , we cannot create an object of the abstract class."
   ]
  },
  {
   "cell_type": "code",
   "execution_count": 6,
   "id": "4078bb16",
   "metadata": {},
   "outputs": [
    {
     "ename": "TypeError",
     "evalue": "Can't instantiate abstract class Shape with abstract methods area, perimeter",
     "output_type": "error",
     "traceback": [
      "\u001b[1;31m---------------------------------------------------------------------------\u001b[0m",
      "\u001b[1;31mTypeError\u001b[0m                                 Traceback (most recent call last)",
      "Cell \u001b[1;32mIn[6], line 1\u001b[0m\n\u001b[1;32m----> 1\u001b[0m shp \u001b[38;5;241m=\u001b[39m \u001b[43mShape\u001b[49m\u001b[43m(\u001b[49m\u001b[43m)\u001b[49m\n",
      "\u001b[1;31mTypeError\u001b[0m: Can't instantiate abstract class Shape with abstract methods area, perimeter"
     ]
    }
   ],
   "source": [
    "shp = Shape()    # you cannot create an object of the abstract class"
   ]
  },
  {
   "cell_type": "markdown",
   "id": "f5fa2b3d",
   "metadata": {},
   "source": [
    "## Example 2 :"
   ]
  },
  {
   "cell_type": "code",
   "execution_count": 8,
   "id": "caa97f4f",
   "metadata": {},
   "outputs": [
    {
     "data": {
      "text/plain": [
       "'this is not an abstract method'"
      ]
     },
     "execution_count": 8,
     "metadata": {},
     "output_type": "execute_result"
    }
   ],
   "source": [
    "class Rectangle(Shape):\n",
    "    def area(self,length,breath):\n",
    "        return length*breath\n",
    "    \n",
    "    def perimeter(self,length,breath):\n",
    "        return 2*(length+breath)\n",
    "    \n",
    "rect = Rectangle() # we can't make the object of the abstract base class but we can meke the object of, \n",
    "rect.perimeter(4,5)# its subclass.\n",
    "rect.area(3,4)\n",
    "rect.display()  # it will still work"
   ]
  },
  {
   "cell_type": "code",
   "execution_count": 9,
   "id": "20576a94",
   "metadata": {},
   "outputs": [
    {
     "name": "stdout",
     "output_type": "stream",
     "text": [
      "31.400000000000002\n",
      "78.5\n"
     ]
    }
   ],
   "source": [
    "class Circle(Shape):\n",
    "    def area(self,radius):\n",
    "        return 3.14*radius**2\n",
    "    \n",
    "    def perimeter(self,radius):\n",
    "        return 2*3.14*radius\n",
    "    \n",
    "cir = Circle()                  \n",
    "print(cir.perimeter(5))                \n",
    "print(cir.area(5))"
   ]
  },
  {
   "cell_type": "markdown",
   "id": "90117166",
   "metadata": {},
   "source": [
    "## Example 3 :"
   ]
  },
  {
   "cell_type": "code",
   "execution_count": 11,
   "id": "89792e5b",
   "metadata": {},
   "outputs": [],
   "source": [
    "class fb_account:\n",
    "    @abstractmethod\n",
    "    def user_info(self):\n",
    "        pass"
   ]
  },
  {
   "cell_type": "code",
   "execution_count": 12,
   "id": "890c5742",
   "metadata": {},
   "outputs": [
    {
     "name": "stdout",
     "output_type": "stream",
     "text": [
      "sherya has the password moyemoye and has login this id with number 6468389729\n"
     ]
    }
   ],
   "source": [
    "class user1:\n",
    "    def user_info(self,name,password,number):\n",
    "        print(f\"{name} has the password {password} and has login this id with number {number}\")\n",
    "        \n",
    "us = user1()\n",
    "us.user_info(\"sherya\",\"moyemoye\",\"6468389729\")"
   ]
  },
  {
   "cell_type": "markdown",
   "id": "6fd694d2",
   "metadata": {},
   "source": [
    "## Conclusion for the File on Abstraction\n",
    "\n",
    "* In conclusion, abstraction is a cornerstone of Object-Oriented Programming (OOP) that simplifies complex systems by exposing only the essential features while hiding unnecessary implementation details. By focusing on **\"what\"** an object does rather than **\"how\"** it does it, abstraction makes code more modular, maintainable, and easier to understand.\n",
    "\n",
    "* The provided example demonstrates how abstraction enables us to define clear interfaces for interacting with objects, promoting better software design and encouraging reusable, scalable code. Mastering abstraction empowers developers to build systems that are not only efficient but also elegant and intuitive to use.\n",
    "\n",
    "* Key Takeaway: Abstraction helps bridge the gap between real-world problems and code implementation, making it a vital skill in the developer's toolkit."
   ]
  }
 ],
 "metadata": {
  "kernelspec": {
   "display_name": "Python 3 (ipykernel)",
   "language": "python",
   "name": "python3"
  },
  "language_info": {
   "codemirror_mode": {
    "name": "ipython",
    "version": 3
   },
   "file_extension": ".py",
   "mimetype": "text/x-python",
   "name": "python",
   "nbconvert_exporter": "python",
   "pygments_lexer": "ipython3",
   "version": "3.10.9"
  }
 },
 "nbformat": 4,
 "nbformat_minor": 5
}
