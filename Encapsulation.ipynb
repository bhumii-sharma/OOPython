{
 "cells": [
  {
   "cell_type": "markdown",
   "id": "6f159e0c",
   "metadata": {},
   "source": [
    "#                        Encapsulation"
   ]
  },
  {
   "cell_type": "markdown",
   "id": "28cadcc7",
   "metadata": {},
   "source": [
    "Encapsulation involves bundling of data (attributes) and functions (methods) within a single unit."
   ]
  },
  {
   "cell_type": "markdown",
   "id": "08a7121e",
   "metadata": {},
   "source": [
    "Encapsulation is a way to restrict access to methods and attributes from outside of class.<br>\n",
    "Whenever we are working with the class and dealing with sensitive<br>\n",
    "data ,providing access to all varibles used within the class is not a good choice."
   ]
  },
  {
   "cell_type": "code",
   "execution_count": 1,
   "id": "8442bbd0",
   "metadata": {},
   "outputs": [
    {
     "name": "stdout",
     "output_type": "stream",
     "text": [
      "12\n",
      "xyz 12\n"
     ]
    }
   ],
   "source": [
    "class Aspirant:\n",
    "    \n",
    "    def __init__(self,name,age):\n",
    "        self.name = name\n",
    "        self.age = age \n",
    "        \n",
    "    def show(self):\n",
    "        print(self.name,self.age)\n",
    "a1 = Aspirant(\"xyz\",12)\n",
    "print(a1.age)\n",
    "a1.show()\n",
    "        \n",
    "        \n",
    "        \n",
    "        "
   ]
  },
  {
   "cell_type": "markdown",
   "id": "79d2ca9b",
   "metadata": {},
   "source": [
    "# Access Modifiers in Python"
   ]
  },
  {
   "cell_type": "markdown",
   "id": "86f96daa",
   "metadata": {},
   "source": [
    "1. Access modifiers limit access to the attributes and methods of the class.\n",
    "2. Python provides three types of access modifers public, private and protected."
   ]
  },
  {
   "cell_type": "markdown",
   "id": "95cda54c",
   "metadata": {},
   "source": [
    "# Public Members"
   ]
  },
  {
   "cell_type": "markdown",
   "id": "8c8dd375",
   "metadata": {},
   "source": [
    "* Access within and outside of a class\n",
    "* All variables and methods are public by default."
   ]
  },
  {
   "cell_type": "code",
   "execution_count": 6,
   "id": "8c519494",
   "metadata": {},
   "outputs": [
    {
     "name": "stdout",
     "output_type": "stream",
     "text": [
      "25\n",
      "xyz 25\n"
     ]
    }
   ],
   "source": [
    "class Aspirant:\n",
    "    \n",
    "    def __init__(self,name,age):\n",
    "        self.name = name\n",
    "        self.age = age\n",
    "        \n",
    "    def show(self):\n",
    "        print(self.name,self.age)\n",
    "        \n",
    "a1 = Aspirant(\"xyz\",25)\n",
    "print(a1.age)\n",
    "a1.show()"
   ]
  },
  {
   "cell_type": "code",
   "execution_count": 9,
   "id": "fc628ef7",
   "metadata": {
    "scrolled": true
   },
   "outputs": [
    {
     "name": "stdout",
     "output_type": "stream",
     "text": [
      "25\n"
     ]
    },
    {
     "ename": "AttributeError",
     "evalue": "'Aspirant' object has no attribute '__show'",
     "output_type": "error",
     "traceback": [
      "\u001b[1;31m---------------------------------------------------------------------------\u001b[0m",
      "\u001b[1;31mAttributeError\u001b[0m                            Traceback (most recent call last)",
      "Cell \u001b[1;32mIn[9], line 12\u001b[0m\n\u001b[0;32m     10\u001b[0m a1 \u001b[38;5;241m=\u001b[39m Aspirant(\u001b[38;5;124m\"\u001b[39m\u001b[38;5;124mxyz\u001b[39m\u001b[38;5;124m\"\u001b[39m,\u001b[38;5;241m25\u001b[39m)\n\u001b[0;32m     11\u001b[0m \u001b[38;5;28mprint\u001b[39m(a1\u001b[38;5;241m.\u001b[39mage)\n\u001b[1;32m---> 12\u001b[0m \u001b[43ma1\u001b[49m\u001b[38;5;241;43m.\u001b[39;49m\u001b[43m__show\u001b[49m()\n",
      "\u001b[1;31mAttributeError\u001b[0m: 'Aspirant' object has no attribute '__show'"
     ]
    }
   ],
   "source": [
    "class Aspirant:\n",
    "    \n",
    "    def __init__(self,name,age):\n",
    "        self.name = name\n",
    "        self.age = age\n",
    "        \n",
    "    def __show(self):               # private method(by using double underscore)\n",
    "        print(self.name,self.age)\n",
    "        \n",
    "a1 = Aspirant(\"xyz\",25)\n",
    "print(a1.age)\n",
    "a1.__show()"
   ]
  },
  {
   "cell_type": "markdown",
   "id": "a58cd15e",
   "metadata": {},
   "source": [
    "# Private Members\n",
    "\n",
    "* Accessible only within the class.\n",
    "* can't access them dicrectly from the class.\n",
    "* We can create private members using doble underscores."
   ]
  },
  {
   "cell_type": "code",
   "execution_count": 2,
   "id": "3ce95cba",
   "metadata": {},
   "outputs": [
    {
     "ename": "AttributeError",
     "evalue": "'Aspirant' object has no attribute '__profession'",
     "output_type": "error",
     "traceback": [
      "\u001b[1;31m---------------------------------------------------------------------------\u001b[0m",
      "\u001b[1;31mAttributeError\u001b[0m                            Traceback (most recent call last)",
      "Cell \u001b[1;32mIn[2], line 9\u001b[0m\n\u001b[0;32m      6\u001b[0m         \u001b[38;5;28mself\u001b[39m\u001b[38;5;241m.\u001b[39m__profession \u001b[38;5;241m=\u001b[39m profession  \u001b[38;5;66;03m# private variable\u001b[39;00m\n\u001b[0;32m      8\u001b[0m a1 \u001b[38;5;241m=\u001b[39m Aspirant(\u001b[38;5;124m\"\u001b[39m\u001b[38;5;124mxyz\u001b[39m\u001b[38;5;124m\"\u001b[39m,\u001b[38;5;241m25\u001b[39m,\u001b[38;5;124m\"\u001b[39m\u001b[38;5;124mCA\u001b[39m\u001b[38;5;124m\"\u001b[39m)\n\u001b[1;32m----> 9\u001b[0m \u001b[38;5;28mprint\u001b[39m(\u001b[43ma1\u001b[49m\u001b[38;5;241;43m.\u001b[39;49m\u001b[43m__profession\u001b[49m)\n",
      "\u001b[1;31mAttributeError\u001b[0m: 'Aspirant' object has no attribute '__profession'"
     ]
    }
   ],
   "source": [
    "class Aspirant:\n",
    "    \n",
    "    def __init__(self,name,age,profession):\n",
    "        self.name = name\n",
    "        self.age = age\n",
    "        self.__profession = profession  # private variable\n",
    "        \n",
    "a1 = Aspirant(\"xyz\",25,\"CA\")\n",
    "print(a1.__profession)"
   ]
  },
  {
   "cell_type": "markdown",
   "id": "bb6c11d2",
   "metadata": {},
   "source": [
    "# Accessing private attributes using a method"
   ]
  },
  {
   "cell_type": "code",
   "execution_count": 26,
   "id": "708ab682",
   "metadata": {},
   "outputs": [
    {
     "name": "stdout",
     "output_type": "stream",
     "text": [
      "xyz with age 25 is a Ca\n",
      "None\n"
     ]
    }
   ],
   "source": [
    "class Aspirant:\n",
    "    \n",
    "    def __init__(self,name,age,profession):\n",
    "        self.name = name\n",
    "        self.age = age\n",
    "        self.__profession = profession  # private variable\n",
    "        \n",
    "    def show(self):               \n",
    "        print(f\"{self.name} with age {self.age} is a {self.__profession}\")\n",
    "    \n",
    "a1 = Aspirant(\"xyz\",25,\"Ca\")\n",
    "print(a1.show())\n",
    "        "
   ]
  },
  {
   "cell_type": "code",
   "execution_count": 29,
   "id": "54d09808",
   "metadata": {},
   "outputs": [
    {
     "name": "stdout",
     "output_type": "stream",
     "text": [
      "xyz with age 25 is a CA\n",
      "xyz with age 25 is a CA\n"
     ]
    }
   ],
   "source": [
    "class Aspirant:\n",
    "    \n",
    "    def __init__(self,name,age,profession):\n",
    "        self.name = name\n",
    "        self.age = age\n",
    "        self.__profession = profession  # private variable\n",
    "        self.__show()\n",
    "        \n",
    "        \n",
    "    def __show(self):               \n",
    "        print(f\"{self.name} with age {self.age} is a {self.__profession}\")\n",
    "        \n",
    "        \n",
    "    def access_show(self):\n",
    "        self.__show()        # calling methds by method\n",
    "    \n",
    "a1 = Aspirant(\"xyz\",25,\"CA\")\n",
    "a1.access_show()\n",
    "        "
   ]
  },
  {
   "cell_type": "markdown",
   "id": "51cdcacf",
   "metadata": {},
   "source": [
    "# Protected member\n",
    "* Accessible only within the class and its child classess.\n",
    "* Can't access them directly from objects.\n",
    "* We can create protected members using a single underscore."
   ]
  },
  {
   "cell_type": "code",
   "execution_count": 3,
   "id": "b4ff7f89",
   "metadata": {},
   "outputs": [
    {
     "name": "stdout",
     "output_type": "stream",
     "text": [
      "Employee name : Roy\n",
      "WOrking on project : NLP\n"
     ]
    }
   ],
   "source": [
    "# Protected Varibles- Used with inheritance\n",
    "\n",
    "class Company :\n",
    "    def __init__(self):\n",
    "        #protected member\n",
    "        self._project = \"NLP\"\n",
    "        \n",
    "# child class\n",
    "class Employee(Company):\n",
    "    def __init__(self,name):\n",
    "        self.name = name\n",
    "        super().__init__()\n",
    "        \n",
    "        \n",
    "    def show(self):\n",
    "        print(\"Employee name :\" ,self.name)\n",
    "        # Acessing protected member inside the child class\n",
    "        print(\"WOrking on project :\",self._project)\n",
    "        \n",
    "c = Employee(\"Roy\")\n",
    "c.show()\n",
    "        "
   ]
  },
  {
   "cell_type": "markdown",
   "id": "e266223b",
   "metadata": {},
   "source": [
    "# Actually there is NO access modifiers in python"
   ]
  },
  {
   "cell_type": "code",
   "execution_count": 4,
   "id": "67976d0b",
   "metadata": {},
   "outputs": [],
   "source": [
    "# Python is for adults"
   ]
  },
  {
   "cell_type": "code",
   "execution_count": 5,
   "id": "35b4b7e9",
   "metadata": {},
   "outputs": [
    {
     "ename": "AttributeError",
     "evalue": "'Employee' object has no attribute '_Company__age'",
     "output_type": "error",
     "traceback": [
      "\u001b[1;31m---------------------------------------------------------------------------\u001b[0m",
      "\u001b[1;31mAttributeError\u001b[0m                            Traceback (most recent call last)",
      "Cell \u001b[1;32mIn[5], line 21\u001b[0m\n\u001b[0;32m     18\u001b[0m         \u001b[38;5;66;03m# Acessing protected member inside the child class\u001b[39;00m\n\u001b[0;32m     19\u001b[0m         \u001b[38;5;28mprint\u001b[39m(\u001b[38;5;124m\"\u001b[39m\u001b[38;5;124mWOrking on project :\u001b[39m\u001b[38;5;124m\"\u001b[39m,\u001b[38;5;28mself\u001b[39m\u001b[38;5;241m.\u001b[39m_project)\n\u001b[1;32m---> 21\u001b[0m c \u001b[38;5;241m=\u001b[39m \u001b[43mEmployee\u001b[49m\u001b[43m(\u001b[49m\u001b[38;5;124;43m\"\u001b[39;49m\u001b[38;5;124;43mRoy\u001b[39;49m\u001b[38;5;124;43m\"\u001b[39;49m\u001b[43m)\u001b[49m\n\u001b[0;32m     22\u001b[0m c\u001b[38;5;241m.\u001b[39mshow()\n\u001b[0;32m     23\u001b[0m c\u001b[38;5;241m.\u001b[39m__age()\n",
      "Cell \u001b[1;32mIn[5], line 13\u001b[0m, in \u001b[0;36mEmployee.__init__\u001b[1;34m(self, name)\u001b[0m\n\u001b[0;32m     11\u001b[0m \u001b[38;5;28;01mdef\u001b[39;00m \u001b[38;5;21m__init__\u001b[39m(\u001b[38;5;28mself\u001b[39m,name):\n\u001b[0;32m     12\u001b[0m     \u001b[38;5;28mself\u001b[39m\u001b[38;5;241m.\u001b[39mname \u001b[38;5;241m=\u001b[39m name\n\u001b[1;32m---> 13\u001b[0m     \u001b[38;5;28;43msuper\u001b[39;49m\u001b[43m(\u001b[49m\u001b[43m)\u001b[49m\u001b[38;5;241;43m.\u001b[39;49m\u001b[38;5;21;43m__init__\u001b[39;49m\u001b[43m(\u001b[49m\u001b[43m)\u001b[49m\n",
      "Cell \u001b[1;32mIn[5], line 7\u001b[0m, in \u001b[0;36mCompany.__init__\u001b[1;34m(self)\u001b[0m\n\u001b[0;32m      4\u001b[0m \u001b[38;5;28;01mdef\u001b[39;00m \u001b[38;5;21m__init__\u001b[39m(\u001b[38;5;28mself\u001b[39m):\n\u001b[0;32m      5\u001b[0m     \u001b[38;5;66;03m#protected member\u001b[39;00m\n\u001b[0;32m      6\u001b[0m     \u001b[38;5;28mself\u001b[39m\u001b[38;5;241m.\u001b[39m_project \u001b[38;5;241m=\u001b[39m \u001b[38;5;124m\"\u001b[39m\u001b[38;5;124mNLP\u001b[39m\u001b[38;5;124m\"\u001b[39m\n\u001b[1;32m----> 7\u001b[0m     \u001b[38;5;28;43mself\u001b[39;49m\u001b[38;5;241;43m.\u001b[39;49m\u001b[43m__age\u001b[49m()\n",
      "\u001b[1;31mAttributeError\u001b[0m: 'Employee' object has no attribute '_Company__age'"
     ]
    }
   ],
   "source": [
    "# Protected Varibles- Used with inheritance\n",
    "\n",
    "class Company :\n",
    "    def __init__(self):\n",
    "        #protected member\n",
    "        self._project = \"NLP\"\n",
    "        self.__age()\n",
    "        \n",
    "# child class\n",
    "class Employee(Company):\n",
    "    def __init__(self,name):\n",
    "        self.name = name\n",
    "        super().__init__()\n",
    "        \n",
    "        \n",
    "    def show(self):\n",
    "        print(\"Employee name :\" ,self.name)\n",
    "        # Acessing protected member inside the child class\n",
    "        print(\"WOrking on project :\",self._project)\n",
    "        \n",
    "c = Employee(\"Roy\")\n",
    "c.show()\n",
    "c.__age()"
   ]
  },
  {
   "cell_type": "code",
   "execution_count": 6,
   "id": "c01ea35c",
   "metadata": {},
   "outputs": [
    {
     "data": {
      "text/plain": [
       "'NLP'"
      ]
     },
     "execution_count": 6,
     "metadata": {},
     "output_type": "execute_result"
    }
   ],
   "source": [
    "c._project # can access protected member\n"
   ]
  },
  {
   "cell_type": "markdown",
   "id": "123e2550",
   "metadata": {},
   "source": [
    "# Accessing private variables using mangling\n",
    "* Name mangling is a mechanism which causes the attributes with double underscores to become \n",
    "* _ClassName__attribute internally within python"
   ]
  },
  {
   "cell_type": "code",
   "execution_count": 7,
   "id": "c3bf0c03",
   "metadata": {},
   "outputs": [
    {
     "name": "stdout",
     "output_type": "stream",
     "text": [
      "software\n"
     ]
    }
   ],
   "source": [
    "class Aspirant :\n",
    "    \n",
    "    def __init__(self,name,age,profession):\n",
    "        self.name = name\n",
    "        self.age = age\n",
    "        self.__profession = profession\n",
    "        \n",
    "a1 = Aspirant(\"xyz\",25,\"CA\")\n",
    "a1._Aspirant__profession = \"software\"\n",
    "print(a1._Aspirant__profession)            # object._class__variablename"
   ]
  },
  {
   "cell_type": "code",
   "execution_count": 8,
   "id": "8ed47c55",
   "metadata": {},
   "outputs": [
    {
     "data": {
      "text/plain": [
       "['_Aspirant__profession',\n",
       " '__class__',\n",
       " '__delattr__',\n",
       " '__dict__',\n",
       " '__dir__',\n",
       " '__doc__',\n",
       " '__eq__',\n",
       " '__format__',\n",
       " '__ge__',\n",
       " '__getattribute__',\n",
       " '__gt__',\n",
       " '__hash__',\n",
       " '__init__',\n",
       " '__init_subclass__',\n",
       " '__le__',\n",
       " '__lt__',\n",
       " '__module__',\n",
       " '__ne__',\n",
       " '__new__',\n",
       " '__reduce__',\n",
       " '__reduce_ex__',\n",
       " '__repr__',\n",
       " '__setattr__',\n",
       " '__sizeof__',\n",
       " '__str__',\n",
       " '__subclasshook__',\n",
       " '__weakref__',\n",
       " 'age',\n",
       " 'name']"
      ]
     },
     "execution_count": 8,
     "metadata": {},
     "output_type": "execute_result"
    }
   ],
   "source": [
    "dir(a1)  # gives a list of all the attributes and methods associated with the object"
   ]
  },
  {
   "cell_type": "markdown",
   "id": "ac5cfaf1",
   "metadata": {},
   "source": [
    "it will behave like an attributes , only for private attrinbutes"
   ]
  },
  {
   "cell_type": "markdown",
   "id": "dc895571",
   "metadata": {},
   "source": [
    "# Getters and Setters"
   ]
  },
  {
   "cell_type": "markdown",
   "id": "f8cf31c4",
   "metadata": {},
   "source": [
    "Getters are metods used to access the values of private attributes.\n",
    "Setters are metods used to change the values of private attributes."
   ]
  },
  {
   "cell_type": "markdown",
   "id": "914f9817",
   "metadata": {},
   "source": [
    "* Used to achieve encapsulation. They control the access to the private variables.\n",
    "* Prevent any invalid values from being initialized to the variables.\n",
    "* We can hide the implementation details of a class from external users."
   ]
  },
  {
   "cell_type": "code",
   "execution_count": 9,
   "id": "815eb955",
   "metadata": {},
   "outputs": [
    {
     "name": "stdout",
     "output_type": "stream",
     "text": [
      "29\n",
      "17\n"
     ]
    }
   ],
   "source": [
    "class Number:\n",
    "    def __init__(self):\n",
    "        self.__num = 29\n",
    "        self.__age = 17\n",
    "        \n",
    "    @property              # to make getters\n",
    "    def num(self):\n",
    "        return self.__num\n",
    "    \n",
    "    @num.setter            # to make setters\n",
    "    def num(self,new_num):\n",
    "        self.__num = new_num\n",
    "        \n",
    "    @property\n",
    "    def age(self):\n",
    "        return self.__age\n",
    "    \n",
    "    @age.setter\n",
    "    def age(self,new_age):\n",
    "        if new_age > 100:\n",
    "            print(\"Invalid value \\n Enter the value between 0 - 100\")\n",
    "        else:\n",
    "            self.__age = new_age\n",
    "        \n",
    "x = Number()\n",
    "y = Number()\n",
    "print(x.num)\n",
    "x.num = 78\n",
    "x.num\n",
    "print(y.age)\n",
    "y.age = 23\n",
    "y.age\n",
    "y._Number__age = 5\n"
   ]
  },
  {
   "cell_type": "code",
   "execution_count": 10,
   "id": "4f034b33",
   "metadata": {},
   "outputs": [
    {
     "name": "stdout",
     "output_type": "stream",
     "text": [
      "17\n",
      "26\n"
     ]
    }
   ],
   "source": [
    "class Number:\n",
    "    def __init__(self):\n",
    "        self.__num = 17\n",
    "        self.__age = 23\n",
    "        \n",
    "    @property\n",
    "    def num(self):\n",
    "        return self.__num\n",
    "    \n",
    "    @num.setter\n",
    "    def num(self,new_num):\n",
    "        self.__num = new_num\n",
    "    \n",
    "    @property\n",
    "    def age(self):\n",
    "        return self.__age\n",
    "    \n",
    "    @age.setter\n",
    "    def age(self,new_age):\n",
    "        if new_age >100:\n",
    "            print(\"Invalid number please enter the numbers between 0-100\")\n",
    "        else:\n",
    "            self.__age = new_age\n",
    "            \n",
    "x = Number()\n",
    "print(x.num)\n",
    "x.num = 45\n",
    "x.age= 26\n",
    "print(x.age)"
   ]
  },
  {
   "cell_type": "code",
   "execution_count": 4,
   "id": "66539512",
   "metadata": {},
   "outputs": [
    {
     "name": "stdout",
     "output_type": "stream",
     "text": [
      "I hope you do well in your exam Roy\n",
      "('The age of ', 'Roy', 'is', 21)\n"
     ]
    }
   ],
   "source": [
    "class Person:\n",
    "    def __init__(self,name,age):\n",
    "        self.__name = name\n",
    "        self.__age = age\n",
    "        \n",
    "    def greet(self):\n",
    "        print(f\"I hope you do well in your exam {self.__name}\")\n",
    "        \n",
    "    @property\n",
    "    def age(self):\n",
    "        return \"The age of \",self.__name,\"is\",self.__age\n",
    "    \n",
    "    @age.setter\n",
    "    def age(self,new_age):\n",
    "        if new_age >100:\n",
    "            print(\"Invaild value\")\n",
    "            \n",
    "        else:\n",
    "            self.__age = new_age\n",
    "            \n",
    "p1 = Person(\"Roy\",16)\n",
    "p1.greet()\n",
    "p1.age = 21\n",
    "print(p1.age)\n"
   ]
  },
  {
   "cell_type": "code",
   "execution_count": null,
   "id": "be9f185a",
   "metadata": {},
   "outputs": [],
   "source": []
  }
 ],
 "metadata": {
  "kernelspec": {
   "display_name": "Python 3 (ipykernel)",
   "language": "python",
   "name": "python3"
  },
  "language_info": {
   "codemirror_mode": {
    "name": "ipython",
    "version": 3
   },
   "file_extension": ".py",
   "mimetype": "text/x-python",
   "name": "python",
   "nbconvert_exporter": "python",
   "pygments_lexer": "ipython3",
   "version": "3.10.9"
  }
 },
 "nbformat": 4,
 "nbformat_minor": 5
}
